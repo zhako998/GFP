{
 "cells": [
  {
   "cell_type": "code",
   "execution_count": 1,
   "metadata": {},
   "outputs": [
    {
     "name": "stdout",
     "output_type": "stream",
     "text": [
      "2.0.3\n"
     ]
    }
   ],
   "source": [
    "import pandas as pd\n",
    "pd.set_option('display.max_columns', None)\n",
    "# pd.options.display.max_columns = None\n",
    "\n",
    "import sys\n",
    "import time\n",
    "import numpy as np\n",
    "np.set_printoptions(threshold = sys.maxsize)\n",
    "\n",
    "import xgboost as xgb\n",
    "print(xgb.__version__)\n",
    "\n",
    "from joblib import dump\n",
    "\n",
    "# from sklearn.model_selection import cross_val_score, KFold, ShuffleSplit\n",
    "from sklearn.model_selection import GridSearchCV, train_test_split"
   ]
  },
  {
   "cell_type": "code",
   "execution_count": 2,
   "metadata": {},
   "outputs": [],
   "source": [
    "mon_laun_train_path = \"datasets/merged_dataset_train_done.csv\"\n",
    "# mon_laun_train_df = pd.read_csv(mon_laun_train_path, index_col = False, nrows = 90000)\n",
    "mon_laun_train_df = pd.read_csv(mon_laun_train_path, index_col = False)\n",
    "# display(mon_laun_train_df)"
   ]
  },
  {
   "cell_type": "code",
   "execution_count": 3,
   "metadata": {},
   "outputs": [
    {
     "data": {
      "text/plain": [
       "(4062676, 1)"
      ]
     },
     "metadata": {},
     "output_type": "display_data"
    },
    {
     "data": {
      "text/plain": [
       "(4062676, 265)"
      ]
     },
     "metadata": {},
     "output_type": "display_data"
    }
   ],
   "source": [
    "mon_laun_train_df_target = mon_laun_train_df[[\"Is Laundering\"]].astype(int)\n",
    "mon_laun_train_df_data = mon_laun_train_df.drop(columns = [\"Is Laundering\"])\n",
    "\n",
    "display(mon_laun_train_df_target.shape)\n",
    "display(mon_laun_train_df_data.shape)\n",
    "\n",
    "drop_columns = ['Timestamp', \\\n",
    "                'sourceAccountID', 'sourceAccount', 'From Bank', 'Account', \\\n",
    "                'targetAccountID', 'targetAccount', 'To Bank', 'Account.1', \\\n",
    "                'Receiving Currency', 'Payment Currency', 'Payment Format'    \n",
    "               ]\n",
    "\n",
    "# remaing columns ['transactionID', 'Timestamp_float', \\\n",
    "#                 'Amount Received', 'Receiving CurrencyID', \\\n",
    "#                 'Amount Paid', 'Payment CurrencyID', \\\n",
    "#                 'Payment FormatID'\n",
    "#                 ]\n",
    "# NOTE: graph and vertex feature are included\n",
    "\n",
    "mon_laun_train_df_data = mon_laun_train_df_data.drop(columns = drop_columns)"
   ]
  },
  {
   "cell_type": "code",
   "execution_count": 4,
   "metadata": {},
   "outputs": [
    {
     "data": {
      "text/plain": [
       "Is Laundering    int64\n",
       "dtype: object"
      ]
     },
     "metadata": {},
     "output_type": "display_data"
    },
    {
     "data": {
      "text/plain": [
       "transactionID             float64\n",
       "Timestamp_float           float64\n",
       "Amount Received           float64\n",
       "Receiving CurrencyID      float64\n",
       "Amount Paid               float64\n",
       "                           ...   \n",
       "dest_max_col11_in         float64\n",
       "dest_median_col11_in      float64\n",
       "dest_var_col11_in         float64\n",
       "dest_skew_col11_in        float64\n",
       "dest_kurtosis_col11_in    float64\n",
       "Length: 253, dtype: object"
      ]
     },
     "metadata": {},
     "output_type": "display_data"
    }
   ],
   "source": [
    "display(mon_laun_train_df_target.dtypes)\n",
    "display(mon_laun_train_df_data.dtypes)\n",
    "# display(mon_laun_train_df_data)\n",
    "\n",
    "X_train = mon_laun_train_df_data.to_numpy()\n",
    "y_train = mon_laun_train_df_target.to_numpy()"
   ]
  },
  {
   "cell_type": "code",
   "execution_count": 5,
   "metadata": {},
   "outputs": [],
   "source": [
    "X_train_, X_val_, y_train_, y_val_ = train_test_split(X_train, y_train, \n",
    "                                          test_size = 0.25, \n",
    "                                          random_state = 52, \n",
    "                                          shuffle = False, \n",
    "                                          stratify = None\n",
    "                                         )\n",
    "\n",
    "val_indices_ = np.arange(len(X_train_), len(X_train_) + len(X_val_))"
   ]
  },
  {
   "cell_type": "code",
   "execution_count": 6,
   "metadata": {},
   "outputs": [
    {
     "name": "stdout",
     "output_type": "stream",
     "text": [
      "[2298]\n",
      "[1082]\n"
     ]
    }
   ],
   "source": [
    "print(sum(y_train_))\n",
    "print(sum(y_val_))"
   ]
  },
  {
   "cell_type": "code",
   "execution_count": 7,
   "metadata": {},
   "outputs": [],
   "source": [
    "params = {\n",
    "    # NOT DOCUMENTED in XGBoost\n",
    "    # 'n_estimators': [10, 100, 500, 1000],\n",
    "        # 'early_stopping_rounds': [1500], # ERROR: Must have at least 1 validation dataset for early stopping\n",
    "\n",
    "    # DOCUMENTED in XGBoost\n",
    "        # 'num_round': [i for i in range(10, 1000, 10)], # in console only --> TODO: NOT USED\n",
    "        # 'base_score': # global bias\n",
    "    \n",
    "    # 'seed': [i for i in range(1, 10)],\n",
    "        # 'seed_per_iteration':\n",
    "        \n",
    "    # 'learning_rate': [i for i in np.arange(10**(-2.5), 10**(-1), 0.01)], # eta --> [0.03, 0.1]\n",
    "    # 'reg_lambda': [i for i in np.arange(10**(-2), 10**(2), 10)], # lambda --> [0.01, 100]\n",
    "        # 'reg_alpha': [i for i in np.arange()], # alpha\n",
    "        # 'min_split_loss': [] # gamma\n",
    "    \n",
    "    # 'max_depth': [i for i in range(1, 15)], \n",
    "        # 'min_child_weight': [1, 2, 3, 4], \n",
    "        # 'max_delta_step': [0, 1, 2, 4, 8], \n",
    "    # 'subsample': [i for i in np.arange(0.5, 1.0, 0.1)], # to grow a tree\n",
    "        # 'tree_method': [] # tree construction algorithm\n",
    "\n",
    "    # 'scale_pos_weight': [i for i in range(1, 10)], # balance of positive and negative weights, useful for unbalanced classes\n",
    "        # 'max_cat_to_onehot', 'max_cat_threshold'\n",
    "        # 'updater', 'refresh_leaf', 'process_type', 'max_leaves', 'max_bin', \n",
    "        # 'num_parallel_tree', 'monotone_constraints', 'interaction_constraints', 'multi_strategy', 'max_cached_hist_node'\n",
    "    \n",
    "    # 'colsample_bytree': [i for i in np.arange(0.5, 1.0, 0.1)], \n",
    "        # 'colsample_bylevel': [i for i in np.arange()],\n",
    "        # 'colsample_bynode': [i for i in np.arange()]\n",
    "}"
   ]
  },
  {
   "cell_type": "code",
   "execution_count": 8,
   "metadata": {},
   "outputs": [
    {
     "name": "stdout",
     "output_type": "stream",
     "text": [
      "CLF fit wait time: 76.68399834632874 sec\n"
     ]
    }
   ],
   "source": [
    "# https://scikit-learn.org/stable/modules/generated/sklearn.model_selection.GridSearchCV.html\n",
    "\n",
    "clf = GridSearchCV(estimator = xgb.XGBClassifier(booster = 'gbtree', # gbtree, gblinear, dart\n",
    "                                                 objective = 'binary:logistic', # 'binary:logistic', 'multi:softprob'\n",
    "                                                 eval_metric = 'error@0.5', # error@0.5, error, auc, aucpr --> NOTE: during training\n",
    "                                                 validate_parameters = True,\n",
    "                                                 random_state = 42,\n",
    "                                                 device = 'cpu',\n",
    "                                                 nthread = 6, # default is maximum threads \n",
    "                                                 # verbose = 4,\n",
    "                                                ), \n",
    "                    param_grid = params,\n",
    "                    # https://scikit-learn.org/stable/modules/model_evaluation.html          \n",
    "                    scoring = 'f1', # accuracy, etc. --> [multi-metric scoring] --> NOTE: after model fit\n",
    "                    refit = False,\n",
    "                    cv = [(val_indices_, val_indices_)], # NOTE: check for correctness\n",
    "                    n_jobs = 6, # 12\n",
    "                    return_train_score = False\n",
    "                  )\n",
    "\n",
    "start = time.time()\n",
    "clf.fit(X_train, y_train)\n",
    "end = time.time()\n",
    "print(\"CLF fit wait time: \" + str(end - start) + \" sec\")\n",
    "\n",
    "\n",
    "# /usr/local/anaconda3/envs/money_fraud_project/lib/python3.11/site-packages/joblib/externals/loky/process_executor.py:700: UserWarning: A worker stopped while some jobs were given to the executor. This can be caused by a too short worker timeout or by a memory leak. warnings.warn("
   ]
  },
  {
   "cell_type": "code",
   "execution_count": 9,
   "metadata": {},
   "outputs": [
    {
     "data": {
      "text/plain": [
       "{}"
      ]
     },
     "metadata": {},
     "output_type": "display_data"
    }
   ],
   "source": [
    "display(clf.best_params_)\n",
    "# display(clf.best_score_)\n",
    "# display(clf.n_splits_)  # default 5\n",
    "\n",
    "# display(clf.best_estimator_) # if refit = True\n",
    "# display(clf.cv_results_) # if return_train_score = True"
   ]
  },
  {
   "cell_type": "code",
   "execution_count": 10,
   "metadata": {},
   "outputs": [
    {
     "data": {
      "text/html": [
       "<style>#sk-container-id-1 {color: black;background-color: white;}#sk-container-id-1 pre{padding: 0;}#sk-container-id-1 div.sk-toggleable {background-color: white;}#sk-container-id-1 label.sk-toggleable__label {cursor: pointer;display: block;width: 100%;margin-bottom: 0;padding: 0.3em;box-sizing: border-box;text-align: center;}#sk-container-id-1 label.sk-toggleable__label-arrow:before {content: \"▸\";float: left;margin-right: 0.25em;color: #696969;}#sk-container-id-1 label.sk-toggleable__label-arrow:hover:before {color: black;}#sk-container-id-1 div.sk-estimator:hover label.sk-toggleable__label-arrow:before {color: black;}#sk-container-id-1 div.sk-toggleable__content {max-height: 0;max-width: 0;overflow: hidden;text-align: left;background-color: #f0f8ff;}#sk-container-id-1 div.sk-toggleable__content pre {margin: 0.2em;color: black;border-radius: 0.25em;background-color: #f0f8ff;}#sk-container-id-1 input.sk-toggleable__control:checked~div.sk-toggleable__content {max-height: 200px;max-width: 100%;overflow: auto;}#sk-container-id-1 input.sk-toggleable__control:checked~label.sk-toggleable__label-arrow:before {content: \"▾\";}#sk-container-id-1 div.sk-estimator input.sk-toggleable__control:checked~label.sk-toggleable__label {background-color: #d4ebff;}#sk-container-id-1 div.sk-label input.sk-toggleable__control:checked~label.sk-toggleable__label {background-color: #d4ebff;}#sk-container-id-1 input.sk-hidden--visually {border: 0;clip: rect(1px 1px 1px 1px);clip: rect(1px, 1px, 1px, 1px);height: 1px;margin: -1px;overflow: hidden;padding: 0;position: absolute;width: 1px;}#sk-container-id-1 div.sk-estimator {font-family: monospace;background-color: #f0f8ff;border: 1px dotted black;border-radius: 0.25em;box-sizing: border-box;margin-bottom: 0.5em;}#sk-container-id-1 div.sk-estimator:hover {background-color: #d4ebff;}#sk-container-id-1 div.sk-parallel-item::after {content: \"\";width: 100%;border-bottom: 1px solid gray;flex-grow: 1;}#sk-container-id-1 div.sk-label:hover label.sk-toggleable__label {background-color: #d4ebff;}#sk-container-id-1 div.sk-serial::before {content: \"\";position: absolute;border-left: 1px solid gray;box-sizing: border-box;top: 0;bottom: 0;left: 50%;z-index: 0;}#sk-container-id-1 div.sk-serial {display: flex;flex-direction: column;align-items: center;background-color: white;padding-right: 0.2em;padding-left: 0.2em;position: relative;}#sk-container-id-1 div.sk-item {position: relative;z-index: 1;}#sk-container-id-1 div.sk-parallel {display: flex;align-items: stretch;justify-content: center;background-color: white;position: relative;}#sk-container-id-1 div.sk-item::before, #sk-container-id-1 div.sk-parallel-item::before {content: \"\";position: absolute;border-left: 1px solid gray;box-sizing: border-box;top: 0;bottom: 0;left: 50%;z-index: -1;}#sk-container-id-1 div.sk-parallel-item {display: flex;flex-direction: column;z-index: 1;position: relative;background-color: white;}#sk-container-id-1 div.sk-parallel-item:first-child::after {align-self: flex-end;width: 50%;}#sk-container-id-1 div.sk-parallel-item:last-child::after {align-self: flex-start;width: 50%;}#sk-container-id-1 div.sk-parallel-item:only-child::after {width: 0;}#sk-container-id-1 div.sk-dashed-wrapped {border: 1px dashed gray;margin: 0 0.4em 0.5em 0.4em;box-sizing: border-box;padding-bottom: 0.4em;background-color: white;}#sk-container-id-1 div.sk-label label {font-family: monospace;font-weight: bold;display: inline-block;line-height: 1.2em;}#sk-container-id-1 div.sk-label-container {text-align: center;}#sk-container-id-1 div.sk-container {/* jupyter's `normalize.less` sets `[hidden] { display: none; }` but bootstrap.min.css set `[hidden] { display: none !important; }` so we also need the `!important` here to be able to override the default hidden behavior on the sphinx rendered scikit-learn.org. See: https://github.com/scikit-learn/scikit-learn/issues/21755 */display: inline-block !important;position: relative;}#sk-container-id-1 div.sk-text-repr-fallback {display: none;}</style><div id=\"sk-container-id-1\" class=\"sk-top-container\"><div class=\"sk-text-repr-fallback\"><pre>XGBClassifier(base_score=None, booster=None, callbacks=None,\n",
       "              colsample_bylevel=None, colsample_bynode=None,\n",
       "              colsample_bytree=None, device=None, early_stopping_rounds=None,\n",
       "              enable_categorical=False, eval_metric=None, feature_types=None,\n",
       "              gamma=None, grow_policy=None, importance_type=None,\n",
       "              interaction_constraints=None, learning_rate=None, max_bin=None,\n",
       "              max_cat_threshold=None, max_cat_to_onehot=None,\n",
       "              max_delta_step=None, max_depth=None, max_leaves=None,\n",
       "              min_child_weight=None, missing=nan, monotone_constraints=None,\n",
       "              multi_strategy=None, n_estimators=None, n_jobs=None,\n",
       "              num_parallel_tree=None, random_state=None, ...)</pre><b>In a Jupyter environment, please rerun this cell to show the HTML representation or trust the notebook. <br />On GitHub, the HTML representation is unable to render, please try loading this page with nbviewer.org.</b></div><div class=\"sk-container\" hidden><div class=\"sk-item\"><div class=\"sk-estimator sk-toggleable\"><input class=\"sk-toggleable__control sk-hidden--visually\" id=\"sk-estimator-id-1\" type=\"checkbox\" checked><label for=\"sk-estimator-id-1\" class=\"sk-toggleable__label sk-toggleable__label-arrow\">XGBClassifier</label><div class=\"sk-toggleable__content\"><pre>XGBClassifier(base_score=None, booster=None, callbacks=None,\n",
       "              colsample_bylevel=None, colsample_bynode=None,\n",
       "              colsample_bytree=None, device=None, early_stopping_rounds=None,\n",
       "              enable_categorical=False, eval_metric=None, feature_types=None,\n",
       "              gamma=None, grow_policy=None, importance_type=None,\n",
       "              interaction_constraints=None, learning_rate=None, max_bin=None,\n",
       "              max_cat_threshold=None, max_cat_to_onehot=None,\n",
       "              max_delta_step=None, max_depth=None, max_leaves=None,\n",
       "              min_child_weight=None, missing=nan, monotone_constraints=None,\n",
       "              multi_strategy=None, n_estimators=None, n_jobs=None,\n",
       "              num_parallel_tree=None, random_state=None, ...)</pre></div></div></div></div></div>"
      ],
      "text/plain": [
       "XGBClassifier(base_score=None, booster=None, callbacks=None,\n",
       "              colsample_bylevel=None, colsample_bynode=None,\n",
       "              colsample_bytree=None, device=None, early_stopping_rounds=None,\n",
       "              enable_categorical=False, eval_metric=None, feature_types=None,\n",
       "              gamma=None, grow_policy=None, importance_type=None,\n",
       "              interaction_constraints=None, learning_rate=None, max_bin=None,\n",
       "              max_cat_threshold=None, max_cat_to_onehot=None,\n",
       "              max_delta_step=None, max_depth=None, max_leaves=None,\n",
       "              min_child_weight=None, missing=nan, monotone_constraints=None,\n",
       "              multi_strategy=None, n_estimators=None, n_jobs=None,\n",
       "              num_parallel_tree=None, random_state=None, ...)"
      ]
     },
     "execution_count": 10,
     "metadata": {},
     "output_type": "execute_result"
    }
   ],
   "source": [
    "xgb_model = xgb.XGBClassifier(**clf.best_params_)\n",
    "    # params - passes a single dictionary as the first positional arg\n",
    "    # **params - keys in the dictionary are each passed as keyword args\n",
    "\n",
    "xgb_model.fit(X_train, y_train)"
   ]
  },
  {
   "cell_type": "code",
   "execution_count": 11,
   "metadata": {},
   "outputs": [
    {
     "data": {
      "text/plain": [
       "['xgb_best_model_params.joblib']"
      ]
     },
     "execution_count": 11,
     "metadata": {},
     "output_type": "execute_result"
    }
   ],
   "source": [
    "dump(xgb_model, \"xgb_best_model_params.joblib\") # NOTE: saving the best params for later useage"
   ]
  }
 ],
 "metadata": {
  "kernelspec": {
   "display_name": "Python [conda env:money_fraud_project]",
   "language": "python",
   "name": "conda-env-money_fraud_project-py"
  },
  "language_info": {
   "codemirror_mode": {
    "name": "ipython",
    "version": 3
   },
   "file_extension": ".py",
   "mimetype": "text/x-python",
   "name": "python",
   "nbconvert_exporter": "python",
   "pygments_lexer": "ipython3",
   "version": "3.11.7"
  }
 },
 "nbformat": 4,
 "nbformat_minor": 4
}
