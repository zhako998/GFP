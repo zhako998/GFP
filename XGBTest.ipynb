{
 "cells": [
  {
   "cell_type": "code",
   "execution_count": 1,
   "metadata": {},
   "outputs": [],
   "source": [
    "import pandas as pd\n",
    "pd.set_option('display.max_columns', None)\n",
    "# pd.options.display.max_columns = None\n",
    "\n",
    "import sys\n",
    "import numpy as np\n",
    "np.set_printoptions(threshold = sys.maxsize)\n",
    "import matplotlib.pyplot as plt\n",
    "\n",
    "# import xgboost as xgb\n",
    "# print(xgb.__version__)\n",
    "\n",
    "from joblib import load\n",
    "\n",
    "from sklearn.metrics import PrecisionRecallDisplay, \\\n",
    "    precision_recall_curve, accuracy_score, \\\n",
    "    roc_curve, roc_auc_score, auc, f1_score, \\\n",
    "    confusion_matrix"
   ]
  },
  {
   "cell_type": "code",
   "execution_count": 2,
   "metadata": {},
   "outputs": [],
   "source": [
    "mon_laun_test_path = \"datasets/merged_dataset_test_done.csv\"\n",
    "# mon_laun_test_df = pd.read_csv(mon_laun_test_path, index_col = False, nrows = 90000)\n",
    "mon_laun_test_df = pd.read_csv(mon_laun_test_path, index_col = False)\n",
    "\n",
    "# display(mon_laun_test_df)"
   ]
  },
  {
   "cell_type": "code",
   "execution_count": 3,
   "metadata": {},
   "outputs": [
    {
     "data": {
      "text/plain": [
       "(1015669, 1)"
      ]
     },
     "metadata": {},
     "output_type": "display_data"
    },
    {
     "data": {
      "text/plain": [
       "(1015669, 265)"
      ]
     },
     "metadata": {},
     "output_type": "display_data"
    }
   ],
   "source": [
    "mon_laun_test_df_target = mon_laun_test_df[[\"Is Laundering\"]].astype(int)\n",
    "mon_laun_test_df_data = mon_laun_test_df.drop(columns = [\"Is Laundering\"])\n",
    "\n",
    "display(mon_laun_test_df_target.shape)\n",
    "display(mon_laun_test_df_data.shape)\n",
    "\n",
    "drop_columns = ['Timestamp', \\\n",
    "                'sourceAccountID', 'sourceAccount', 'From Bank', 'Account', \\\n",
    "                'targetAccountID', 'targetAccount', 'To Bank', 'Account.1', \\\n",
    "                'Receiving Currency', 'Payment Currency', 'Payment Format'    \n",
    "               ]\n",
    "\n",
    "# remaing columns ['transactionID', 'Timestamp_float', \\\n",
    "#                 'Amount Received', 'Receiving CurrencyID', \\\n",
    "#                 'Amount Paid', 'Payment CurrencyID', \\\n",
    "#                 'Payment FormatID'\n",
    "#                 ]\n",
    "# NOTE: graph and vertex feature are included\n",
    "\n",
    "mon_laun_test_df_data = mon_laun_test_df_data.drop(columns = drop_columns)"
   ]
  },
  {
   "cell_type": "code",
   "execution_count": 4,
   "metadata": {},
   "outputs": [
    {
     "data": {
      "text/plain": [
       "Is Laundering    int64\n",
       "dtype: object"
      ]
     },
     "metadata": {},
     "output_type": "display_data"
    },
    {
     "data": {
      "text/plain": [
       "transactionID             float64\n",
       "Timestamp_float           float64\n",
       "Amount Received           float64\n",
       "Receiving CurrencyID      float64\n",
       "Amount Paid               float64\n",
       "                           ...   \n",
       "dest_max_col11_in         float64\n",
       "dest_median_col11_in      float64\n",
       "dest_var_col11_in         float64\n",
       "dest_skew_col11_in        float64\n",
       "dest_kurtosis_col11_in    float64\n",
       "Length: 253, dtype: object"
      ]
     },
     "metadata": {},
     "output_type": "display_data"
    }
   ],
   "source": [
    "display(mon_laun_test_df_target.dtypes)\n",
    "display(mon_laun_test_df_data.dtypes)\n",
    "# display(mon_laun_test_df_data)\n",
    "\n",
    "X_test = mon_laun_test_df_data.to_numpy()\n",
    "y_test = mon_laun_test_df_target.to_numpy()"
   ]
  },
  {
   "cell_type": "code",
   "execution_count": 5,
   "metadata": {},
   "outputs": [
    {
     "data": {
      "text/html": [
       "<style>#sk-container-id-1 {color: black;background-color: white;}#sk-container-id-1 pre{padding: 0;}#sk-container-id-1 div.sk-toggleable {background-color: white;}#sk-container-id-1 label.sk-toggleable__label {cursor: pointer;display: block;width: 100%;margin-bottom: 0;padding: 0.3em;box-sizing: border-box;text-align: center;}#sk-container-id-1 label.sk-toggleable__label-arrow:before {content: \"▸\";float: left;margin-right: 0.25em;color: #696969;}#sk-container-id-1 label.sk-toggleable__label-arrow:hover:before {color: black;}#sk-container-id-1 div.sk-estimator:hover label.sk-toggleable__label-arrow:before {color: black;}#sk-container-id-1 div.sk-toggleable__content {max-height: 0;max-width: 0;overflow: hidden;text-align: left;background-color: #f0f8ff;}#sk-container-id-1 div.sk-toggleable__content pre {margin: 0.2em;color: black;border-radius: 0.25em;background-color: #f0f8ff;}#sk-container-id-1 input.sk-toggleable__control:checked~div.sk-toggleable__content {max-height: 200px;max-width: 100%;overflow: auto;}#sk-container-id-1 input.sk-toggleable__control:checked~label.sk-toggleable__label-arrow:before {content: \"▾\";}#sk-container-id-1 div.sk-estimator input.sk-toggleable__control:checked~label.sk-toggleable__label {background-color: #d4ebff;}#sk-container-id-1 div.sk-label input.sk-toggleable__control:checked~label.sk-toggleable__label {background-color: #d4ebff;}#sk-container-id-1 input.sk-hidden--visually {border: 0;clip: rect(1px 1px 1px 1px);clip: rect(1px, 1px, 1px, 1px);height: 1px;margin: -1px;overflow: hidden;padding: 0;position: absolute;width: 1px;}#sk-container-id-1 div.sk-estimator {font-family: monospace;background-color: #f0f8ff;border: 1px dotted black;border-radius: 0.25em;box-sizing: border-box;margin-bottom: 0.5em;}#sk-container-id-1 div.sk-estimator:hover {background-color: #d4ebff;}#sk-container-id-1 div.sk-parallel-item::after {content: \"\";width: 100%;border-bottom: 1px solid gray;flex-grow: 1;}#sk-container-id-1 div.sk-label:hover label.sk-toggleable__label {background-color: #d4ebff;}#sk-container-id-1 div.sk-serial::before {content: \"\";position: absolute;border-left: 1px solid gray;box-sizing: border-box;top: 0;bottom: 0;left: 50%;z-index: 0;}#sk-container-id-1 div.sk-serial {display: flex;flex-direction: column;align-items: center;background-color: white;padding-right: 0.2em;padding-left: 0.2em;position: relative;}#sk-container-id-1 div.sk-item {position: relative;z-index: 1;}#sk-container-id-1 div.sk-parallel {display: flex;align-items: stretch;justify-content: center;background-color: white;position: relative;}#sk-container-id-1 div.sk-item::before, #sk-container-id-1 div.sk-parallel-item::before {content: \"\";position: absolute;border-left: 1px solid gray;box-sizing: border-box;top: 0;bottom: 0;left: 50%;z-index: -1;}#sk-container-id-1 div.sk-parallel-item {display: flex;flex-direction: column;z-index: 1;position: relative;background-color: white;}#sk-container-id-1 div.sk-parallel-item:first-child::after {align-self: flex-end;width: 50%;}#sk-container-id-1 div.sk-parallel-item:last-child::after {align-self: flex-start;width: 50%;}#sk-container-id-1 div.sk-parallel-item:only-child::after {width: 0;}#sk-container-id-1 div.sk-dashed-wrapped {border: 1px dashed gray;margin: 0 0.4em 0.5em 0.4em;box-sizing: border-box;padding-bottom: 0.4em;background-color: white;}#sk-container-id-1 div.sk-label label {font-family: monospace;font-weight: bold;display: inline-block;line-height: 1.2em;}#sk-container-id-1 div.sk-label-container {text-align: center;}#sk-container-id-1 div.sk-container {/* jupyter's `normalize.less` sets `[hidden] { display: none; }` but bootstrap.min.css set `[hidden] { display: none !important; }` so we also need the `!important` here to be able to override the default hidden behavior on the sphinx rendered scikit-learn.org. See: https://github.com/scikit-learn/scikit-learn/issues/21755 */display: inline-block !important;position: relative;}#sk-container-id-1 div.sk-text-repr-fallback {display: none;}</style><div id=\"sk-container-id-1\" class=\"sk-top-container\"><div class=\"sk-text-repr-fallback\"><pre>XGBClassifier(base_score=None, booster=None, callbacks=None,\n",
       "              colsample_bylevel=None, colsample_bynode=None,\n",
       "              colsample_bytree=None, device=None, early_stopping_rounds=None,\n",
       "              enable_categorical=False, eval_metric=None, feature_types=None,\n",
       "              gamma=None, grow_policy=None, importance_type=None,\n",
       "              interaction_constraints=None, learning_rate=None, max_bin=None,\n",
       "              max_cat_threshold=None, max_cat_to_onehot=None,\n",
       "              max_delta_step=None, max_depth=None, max_leaves=None,\n",
       "              min_child_weight=None, missing=nan, monotone_constraints=None,\n",
       "              multi_strategy=None, n_estimators=None, n_jobs=None,\n",
       "              num_parallel_tree=None, random_state=None, ...)</pre><b>In a Jupyter environment, please rerun this cell to show the HTML representation or trust the notebook. <br />On GitHub, the HTML representation is unable to render, please try loading this page with nbviewer.org.</b></div><div class=\"sk-container\" hidden><div class=\"sk-item\"><div class=\"sk-estimator sk-toggleable\"><input class=\"sk-toggleable__control sk-hidden--visually\" id=\"sk-estimator-id-1\" type=\"checkbox\" checked><label for=\"sk-estimator-id-1\" class=\"sk-toggleable__label sk-toggleable__label-arrow\">XGBClassifier</label><div class=\"sk-toggleable__content\"><pre>XGBClassifier(base_score=None, booster=None, callbacks=None,\n",
       "              colsample_bylevel=None, colsample_bynode=None,\n",
       "              colsample_bytree=None, device=None, early_stopping_rounds=None,\n",
       "              enable_categorical=False, eval_metric=None, feature_types=None,\n",
       "              gamma=None, grow_policy=None, importance_type=None,\n",
       "              interaction_constraints=None, learning_rate=None, max_bin=None,\n",
       "              max_cat_threshold=None, max_cat_to_onehot=None,\n",
       "              max_delta_step=None, max_depth=None, max_leaves=None,\n",
       "              min_child_weight=None, missing=nan, monotone_constraints=None,\n",
       "              multi_strategy=None, n_estimators=None, n_jobs=None,\n",
       "              num_parallel_tree=None, random_state=None, ...)</pre></div></div></div></div></div>"
      ],
      "text/plain": [
       "XGBClassifier(base_score=None, booster=None, callbacks=None,\n",
       "              colsample_bylevel=None, colsample_bynode=None,\n",
       "              colsample_bytree=None, device=None, early_stopping_rounds=None,\n",
       "              enable_categorical=False, eval_metric=None, feature_types=None,\n",
       "              gamma=None, grow_policy=None, importance_type=None,\n",
       "              interaction_constraints=None, learning_rate=None, max_bin=None,\n",
       "              max_cat_threshold=None, max_cat_to_onehot=None,\n",
       "              max_delta_step=None, max_depth=None, max_leaves=None,\n",
       "              min_child_weight=None, missing=nan, monotone_constraints=None,\n",
       "              multi_strategy=None, n_estimators=None, n_jobs=None,\n",
       "              num_parallel_tree=None, random_state=None, ...)"
      ]
     },
     "metadata": {},
     "output_type": "display_data"
    }
   ],
   "source": [
    "xgb_model = load(\"xgb_best_model_params.joblib\") # NOTE: loading xgb with the best params for testing\n",
    "display(xgb_model)"
   ]
  },
  {
   "cell_type": "code",
   "execution_count": 6,
   "metadata": {},
   "outputs": [],
   "source": [
    "# use the default threshold of 0.5\n",
    "y_pred_class = xgb_model.predict(X_test)\n",
    "\n",
    "y_pred = xgb_model.predict_proba(X_test)[:, 1]\n",
    "\n",
    "# print(y_pred_class[:10])\n",
    "# print(y_pred[:10])\n",
    "# print(y_test[:10]) # list of lists"
   ]
  },
  {
   "cell_type": "code",
   "execution_count": 7,
   "metadata": {},
   "outputs": [
    {
     "name": "stdout",
     "output_type": "stream",
     "text": [
      "Mean Accuracy: 99.84%\n"
     ]
    }
   ],
   "source": [
    "mean_accuracy = xgb_model.score(X_test, y_test)\n",
    "print(\"Mean Accuracy: %.2f%%\" % (mean_accuracy * 100.0))"
   ]
  },
  {
   "cell_type": "code",
   "execution_count": 8,
   "metadata": {},
   "outputs": [
    {
     "name": "stdout",
     "output_type": "stream",
     "text": [
      "[1013202, 670, 956, 841]\n",
      "F1 score: 50.85%\n"
     ]
    }
   ],
   "source": [
    "# https://scikit-learn.org/stable/modules/generated/sklearn.metrics.confusion_matrix.html\n",
    "# confusion matrix\n",
    "    # positive = 1\n",
    "    # negative = 0\n",
    "tn, fp, fn, tp = confusion_matrix(y_test, y_pred_class).ravel()\n",
    "print([tn, fp, fn, tp])\n",
    "\n",
    "# FalsePositiveRate = FalsePositives / (FalsePositives + TrueNegatives) --> to 0\n",
    "# TruePositiveRate = TruePositives / (TruePositives + False Negatives) --> to 1 --> sensitivity/recall\n",
    "# Precision = TruePositives / (TruePositives + FalsePositives) --> to 1\n",
    "\n",
    "\n",
    "# https://scikit-learn.org/stable/modules/generated/sklearn.metrics.f1_score.html\n",
    "    # imbalanced binary classification\n",
    "    # bias the predictive behavior of a classification model\n",
    "f1_score_value = f1_score(y_test, \n",
    "                          y_pred_class\n",
    "                          # labels, \n",
    "                          # pos_label, \n",
    "                          # average, \n",
    "                          # sample_weight, \n",
    "                          # zero_division\n",
    "                         )\n",
    "print(\"F1 score: %.2f%%\" % (f1_score_value * 100.0))\n",
    "# NOTE: find std(+-) of f1-scores based on different hyper-parameters (as many as the seeds used in CV)"
   ]
  },
  {
   "cell_type": "code",
   "execution_count": 9,
   "metadata": {},
   "outputs": [
    {
     "name": "stdout",
     "output_type": "stream",
     "text": [
      "AUC: 46.35%\n"
     ]
    },
    {
     "data": {
      "image/png": "[encoded data removed]",
      "text/plain": [
       "<Figure size 640x480 with 1 Axes>"
      ]
     },
     "metadata": {},
     "output_type": "display_data"
    }
   ],
   "source": [
    "# Precision-Recall curves, AUC score\n",
    "    # Recall (x) vs. Precision (y) --> (1,1) --> top-right corner\n",
    "# NOTE: focused on the positive class (the minority class) and are unconcerned with the true negatives (majority class)\n",
    "precision, recall, pr_thresholds = precision_recall_curve(y_test, \n",
    "                                                  y_pred, \n",
    "                                                  # pos_label, \n",
    "                                                  # sample_weight\n",
    "                                                 )\n",
    "# https://scikit-learn.org/stable/modules/generated/sklearn.metrics.precision_recall_curve.html\n",
    "# print(pr_thresholds)\n",
    "\n",
    "# https://scikit-learn.org/stable/modules/generated/sklearn.metrics.auc.html\n",
    "auc_score = auc(recall, precision)\n",
    "print(\"AUC: %.2f%%\" % (auc_score * 100.0))\n",
    "\n",
    "plt.plot(recall, precision, marker = '.', label = 'XGBoost')\n",
    "\n",
    "no_skill = sum(y_test) / len(y_test)\n",
    "# no_skill = sum(y) / len(y)\n",
    "plt.plot([0, 1], [no_skill, no_skill], linestyle = '--', label = 'No Skill')\n",
    "\n",
    "plt.xlabel('Recall')\n",
    "plt.ylabel('Precision')\n",
    "plt.legend()\n",
    "plt.show()"
   ]
  },
  {
   "cell_type": "code",
   "execution_count": 10,
   "metadata": {},
   "outputs": [
    {
     "name": "stdout",
     "output_type": "stream",
     "text": [
      "ROC AUC: 73.37%\n"
     ]
    },
    {
     "data": {
      "image/png": "[encoded data removed]",
      "text/plain": [
       "<Figure size 640x480 with 1 Axes>"
      ]
     },
     "metadata": {},
     "output_type": "display_data"
    }
   ],
   "source": [
    "# ROC Curves, AUC score\n",
    "    # False Positive Rate (x) vs. True Positive Rate (y) --> (0,1) --> top-left corner\n",
    "# NOTE: small number of correct or incorrect predictions can result in a large change\n",
    "fpr, tpr, roc_thresholds = roc_curve(y_test, \n",
    "                                 y_pred, \n",
    "                                 # pos_label, \n",
    "                                 # sample_weight\n",
    "                                )\n",
    "# https://scikit-learn.org/stable/modules/generated/sklearn.metrics.roc_curve.html\n",
    "# print(roc_thresholds)\n",
    "\n",
    "# https://scikit-learn.org/stable/modules/generated/sklearn.metrics.roc_auc_score.html\n",
    "roc_auc = roc_auc_score(y_test, y_pred_class)\n",
    "print(\"ROC AUC: %.2f%%\" % (roc_auc * 100.0))\n",
    "\n",
    "plt.plot(fpr, tpr, marker = '.', label = 'XGBoost')\n",
    "plt.plot([0, 1], [0, 1], linestyle = '--', label = 'No Skill')\n",
    "plt.xlabel('False Positive Rate')\n",
    "plt.ylabel('True Positive Rate')\n",
    "plt.legend()\n",
    "plt.show()"
   ]
  }
 ],
 "metadata": {
  "kernelspec": {
   "display_name": "Python [conda env:money_fraud_project]",
   "language": "python",
   "name": "conda-env-money_fraud_project-py"
  },
  "language_info": {
   "codemirror_mode": {
    "name": "ipython",
    "version": 3
   },
   "file_extension": ".py",
   "mimetype": "text/x-python",
   "name": "python",
   "nbconvert_exporter": "python",
   "pygments_lexer": "ipython3",
   "version": "3.11.7"
  }
 },
 "nbformat": 4,
 "nbformat_minor": 4
}
